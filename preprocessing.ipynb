{
 "cells": [
  {
   "cell_type": "code",
   "execution_count": 1,
   "id": "f7f1bba3",
   "metadata": {},
   "outputs": [],
   "source": [
    "import os\n",
    "import cv2\n",
    "import numpy as np\n",
    "import imutils\n",
    "from tqdm import tqdm\n",
    "from pathlib import Path"
   ]
  },
  {
   "cell_type": "code",
   "execution_count": 2,
   "id": "96079f12",
   "metadata": {},
   "outputs": [],
   "source": [
    "# Constants\n",
    "IMG_SIZE = 300\n",
    "CLAHE = cv2.createCLAHE(clipLimit=2.0, tileGridSize=(8, 8))"
   ]
  },
  {
   "cell_type": "code",
   "execution_count": 3,
   "id": "84d7e4d2",
   "metadata": {},
   "outputs": [],
   "source": [
    "def crop_img(img):\n",
    "    gray = cv2.cvtColor(img, cv2.COLOR_RGB2GRAY)\n",
    "    gray = cv2.GaussianBlur(gray, (3, 3), 0)\n",
    "    thresh = cv2.threshold(gray, 45, 255, cv2.THRESH_BINARY)[1]\n",
    "    thresh = cv2.erode(thresh, None, iterations=2)\n",
    "    thresh = cv2.dilate(thresh, None, iterations=2)\n",
    "    cnts = cv2.findContours(thresh.copy(), cv2.RETR_EXTERNAL, cv2.CHAIN_APPROX_SIMPLE)\n",
    "    cnts = imutils.grab_contours(cnts)\n",
    "    if len(cnts) == 0:\n",
    "        return img  # Return original if no contour found\n",
    "    c = max(cnts, key=cv2.contourArea)\n",
    "    extLeft = tuple(c[c[:, :, 0].argmin()][0])\n",
    "    extRight = tuple(c[c[:, :, 0].argmax()][0])\n",
    "    extTop = tuple(c[c[:, :, 1].argmin()][0])\n",
    "    extBot = tuple(c[c[:, :, 1].argmax()][0])\n",
    "    ADD_PIXELS = 0\n",
    "    cropped = img[extTop[1]-ADD_PIXELS:extBot[1]+ADD_PIXELS, extLeft[0]-ADD_PIXELS:extRight[0]+ADD_PIXELS].copy()\n",
    "    return cropped"
   ]
  },
  {
   "cell_type": "code",
   "execution_count": 4,
   "id": "0c5c16e8",
   "metadata": {},
   "outputs": [],
   "source": [
    "def apply_clahe(img):\n",
    "    gray = cv2.cvtColor(img, cv2.COLOR_RGB2GRAY)\n",
    "    clahe_applied = CLAHE.apply(gray)\n",
    "    return cv2.cvtColor(clahe_applied, cv2.COLOR_GRAY2RGB)  # Convert back to RGB"
   ]
  },
  {
   "cell_type": "code",
   "execution_count": 5,
   "id": "efb36b3f",
   "metadata": {},
   "outputs": [],
   "source": [
    "def process_images(input_root, output_root):\n",
    "    input_root = Path(input_root)\n",
    "    output_root = Path(output_root)\n",
    "    output_root.mkdir(parents=True, exist_ok=True)\n",
    "\n",
    "    for category in tqdm(os.listdir(input_root), desc=\"Processing categories\"):\n",
    "        input_category_path = input_root / category\n",
    "        output_category_path = output_root / category\n",
    "        output_category_path.mkdir(exist_ok=True)\n",
    "\n",
    "        for img_name in os.listdir(input_category_path):\n",
    "            img_path = input_category_path / img_name\n",
    "            img = cv2.imread(str(img_path))\n",
    "            if img is None:\n",
    "                continue\n",
    "            img = cv2.cvtColor(img, cv2.COLOR_BGR2RGB)\n",
    "            cropped = crop_img(img)\n",
    "            enhanced = apply_clahe(cropped)\n",
    "            resized = cv2.resize(enhanced, (IMG_SIZE, IMG_SIZE))\n",
    "            final_img = cv2.cvtColor(resized, cv2.COLOR_RGB2BGR)\n",
    "            cv2.imwrite(str(output_category_path / img_name), final_img)"
   ]
  },
  {
   "cell_type": "code",
   "execution_count": 6,
   "id": "71da1b79",
   "metadata": {},
   "outputs": [
    {
     "name": "stderr",
     "output_type": "stream",
     "text": [
      "Processing categories: 100%|█████████████████████████████████████████████████████████████| 4/4 [00:23<00:00,  5.87s/it]\n",
      "Processing categories: 100%|█████████████████████████████████████████████████████████████| 4/4 [00:04<00:00,  1.18s/it]\n"
     ]
    }
   ],
   "source": [
    "# Run preprocessing on the dataset\n",
    "process_images(\"C:/EfficientNetB3/Training\", \"C:/EfficientNetB3/cropped/Training\")\n",
    "process_images(\"C:/EfficientNetB3/Testing\", \"C:/EfficientNetB3/cropped/Testing\")"
   ]
  },
  {
   "cell_type": "code",
   "execution_count": null,
   "id": "23e8aad5",
   "metadata": {},
   "outputs": [],
   "source": []
  }
 ],
 "metadata": {
  "kernelspec": {
   "display_name": "Python 3 (ipykernel)",
   "language": "python",
   "name": "python3"
  },
  "language_info": {
   "codemirror_mode": {
    "name": "ipython",
    "version": 3
   },
   "file_extension": ".py",
   "mimetype": "text/x-python",
   "name": "python",
   "nbconvert_exporter": "python",
   "pygments_lexer": "ipython3",
   "version": "3.7.9"
  }
 },
 "nbformat": 4,
 "nbformat_minor": 5
}
